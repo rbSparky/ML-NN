{
  "cells": [
    {
      "cell_type": "markdown",
      "metadata": {
        "id": "KI1tiWlaK4x7"
      },
      "source": [
        "# MNIST with CNN"
      ]
    },
    {
      "cell_type": "code",
      "source": [
        "import tensorflow.compat.v1 as tf\n",
        "tf.enable_eager_execution()\n",
        "import tensorflow_datasets as tfds"
      ],
      "metadata": {
        "id": "232bmMazRDL8"
      },
      "execution_count": 1,
      "outputs": []
    },
    {
      "cell_type": "code",
      "source": [
        "# pre written class to replace outdated tensorflow code\n",
        "class MyDS(object):\n",
        "  class SubDS(object):\n",
        "      import numpy as np\n",
        "      def __init__(self, ds, *, one_hot):\n",
        "          np = self.__class__.np\n",
        "          self.ds = [e for e in ds.as_numpy_iterator()]\n",
        "          self.sds = {(k + 's') : np.stack([\n",
        "              (e[k] if len(e[k].shape) > 0 else e[k][None]).reshape(-1) for e in self.ds\n",
        "          ], 0) for k in self.ds[0].keys()}\n",
        "          self.one_hot = one_hot\n",
        "          if one_hot is not None:\n",
        "              self.max_one_hot = np.max(self.sds[one_hot + 's'])\n",
        "      def _to_one_hot(self, a, maxv):\n",
        "          np = self.__class__.np\n",
        "          na = np.zeros((a.shape[0], maxv + 1), dtype = a.dtype)\n",
        "          for i, e in enumerate(a[:, 0]):\n",
        "              na[i, e] = True\n",
        "          return na\n",
        "      def _apply_one_hot(self, key, maxv):\n",
        "          assert maxv >= self.max_one_hot, (maxv, self.max_one_hot)\n",
        "          self.max_one_hot = maxv\n",
        "          self.sds[key + 's'] = self._to_one_hot(self.sds[key + 's'], self.max_one_hot)\n",
        "      def next_batch(self, num = 16):\n",
        "          np = self.__class__.np\n",
        "          idx = np.random.choice(len(self.ds), num)\n",
        "          res = {k : np.stack([\n",
        "              (self.ds[i][k] if len(self.ds[i][k].shape) > 0 else self.ds[i][k][None]).reshape(-1) for i in idx\n",
        "          ], 0) for k in self.ds[0].keys()}\n",
        "          if self.one_hot is not None:\n",
        "              res[self.one_hot] = self._to_one_hot(res[self.one_hot], self.max_one_hot)\n",
        "          for i, (k, v) in enumerate(list(res.items())):\n",
        "              res[i] = v\n",
        "          return res\n",
        "      def __getattr__(self, name):\n",
        "          if name not in self.__dict__['sds']:\n",
        "              return self.__dict__[name]\n",
        "          return self.__dict__['sds'][name]\n",
        "  def __init__(self, name, *, one_hot = None):\n",
        "      self.ds = tfds.load(name)\n",
        "      self.sds = {}\n",
        "      for k, v in self.ds.items():\n",
        "          self.sds[k] = self.__class__.SubDS(self.ds[k], one_hot = one_hot)\n",
        "      if one_hot is not None:\n",
        "          maxh = max(e.max_one_hot for e in self.sds.values())\n",
        "          for e in self.sds.values():\n",
        "              e._apply_one_hot(one_hot, maxh)\n",
        "  def __getattr__(self, name):\n",
        "      if name not in self.__dict__['sds']:\n",
        "          return self.__dict__[name]\n",
        "      return self.__dict__['sds'][name]"
      ],
      "metadata": {
        "id": "6S45f7cOQqnt"
      },
      "execution_count": 2,
      "outputs": []
    },
    {
      "cell_type": "code",
      "source": [
        "mnist = MyDS('mnist', one_hot = 'label') # tensorflow_datasets.load('mnist') doesn't work anymore\n",
        "\n",
        "tf.disable_eager_execution()\n",
        "tf.disable_v2_behavior()"
      ],
      "metadata": {
        "colab": {
          "base_uri": "https://localhost:8080/"
        },
        "id": "kYmWIdCZRH_p",
        "outputId": "2f5e2e4e-5627-477c-9173-935149c5f93b"
      },
      "execution_count": 3,
      "outputs": [
        {
          "output_type": "stream",
          "name": "stdout",
          "text": [
            "WARNING:tensorflow:From /usr/local/lib/python3.7/dist-packages/tensorflow/python/compat/v2_compat.py:107: disable_resource_variables (from tensorflow.python.ops.variable_scope) is deprecated and will be removed in a future version.\n",
            "Instructions for updating:\n",
            "non-resource variables are not supported in the long term\n"
          ]
        },
        {
          "output_type": "stream",
          "name": "stderr",
          "text": [
            "WARNING:tensorflow:From /usr/local/lib/python3.7/dist-packages/tensorflow/python/compat/v2_compat.py:107: disable_resource_variables (from tensorflow.python.ops.variable_scope) is deprecated and will be removed in a future version.\n",
            "Instructions for updating:\n",
            "non-resource variables are not supported in the long term\n"
          ]
        }
      ]
    },
    {
      "cell_type": "code",
      "source": [
        "def get_weights(shape):\n",
        "    data = tf.truncated_normal(shape, stddev=0.1)\n",
        "    return tf.Variable(data)"
      ],
      "metadata": {
        "id": "F1WulfA8RNwZ"
      },
      "execution_count": 4,
      "outputs": []
    },
    {
      "cell_type": "code",
      "source": [
        "def get_biases(shape):\n",
        "    data = tf.constant(0.1, shape=shape)\n",
        "    return tf.Variable(data)"
      ],
      "metadata": {
        "id": "mHf-yfHIRWyt"
      },
      "execution_count": 5,
      "outputs": []
    },
    {
      "cell_type": "code",
      "source": [
        "def create_layer(shape):\n",
        "    W = get_weights(shape)\n",
        "    b = get_biases([shape[-1]])\n",
        "    return W, b"
      ],
      "metadata": {
        "id": "5obE-KfbRZTF"
      },
      "execution_count": 6,
      "outputs": []
    },
    {
      "cell_type": "code",
      "source": [
        "def convolution_2d(x, W):\n",
        "    return tf.nn.conv2d(x, W, strides=[1, 1, 1, 1], padding='SAME')"
      ],
      "metadata": {
        "id": "AxVmt4cLRdQJ"
      },
      "execution_count": 7,
      "outputs": []
    },
    {
      "cell_type": "code",
      "source": [
        "def max_pooling(x):\n",
        "    return tf.nn.max_pool(x, ksize=[1, 2, 2, 1], strides=[1, 2, 2, 1], padding='SAME')"
      ],
      "metadata": {
        "id": "Ktu-XyiRRgnk"
      },
      "execution_count": 8,
      "outputs": []
    },
    {
      "cell_type": "code",
      "source": [
        "x = tf.placeholder(tf.float32, [None, 784])"
      ],
      "metadata": {
        "id": "Fc0I4bdeRn8l"
      },
      "execution_count": 9,
      "outputs": []
    },
    {
      "cell_type": "code",
      "source": [
        "x_image = tf.reshape(x, [-1, 28, 28, 1])"
      ],
      "metadata": {
        "id": "0ebP2wY6RqaM"
      },
      "execution_count": 10,
      "outputs": []
    },
    {
      "cell_type": "code",
      "source": [
        "W_conv1, b_conv1 = create_layer([5, 5, 1, 32])"
      ],
      "metadata": {
        "id": "TmQ3O8SjRtUm"
      },
      "execution_count": 11,
      "outputs": []
    },
    {
      "cell_type": "code",
      "source": [
        "h_conv1 = tf.nn.relu(convolution_2d(x_image, W_conv1) + b_conv1)"
      ],
      "metadata": {
        "id": "ZgNieaRMRvMs"
      },
      "execution_count": 12,
      "outputs": []
    },
    {
      "cell_type": "code",
      "source": [
        "h_pool1 = max_pooling(h_conv1)"
      ],
      "metadata": {
        "id": "9Cfj4MPKRvv9"
      },
      "execution_count": 13,
      "outputs": []
    },
    {
      "cell_type": "code",
      "source": [
        "W_conv2, b_conv2 = create_layer([5, 5, 32, 64])"
      ],
      "metadata": {
        "id": "YiEwHVA5Rzv8"
      },
      "execution_count": 14,
      "outputs": []
    },
    {
      "cell_type": "code",
      "source": [
        "h_conv2 = tf.nn.relu(convolution_2d(h_pool1, W_conv2) + b_conv2)"
      ],
      "metadata": {
        "id": "5oY2lUu8R2ms"
      },
      "execution_count": 15,
      "outputs": []
    },
    {
      "cell_type": "code",
      "source": [
        "h_pool2 = max_pooling(h_conv2)"
      ],
      "metadata": {
        "id": "8I89I3nVR4rc"
      },
      "execution_count": 16,
      "outputs": []
    },
    {
      "cell_type": "code",
      "source": [
        "W_fc1, b_fc1 = create_layer([7 * 7 * 64, 1024])"
      ],
      "metadata": {
        "id": "e63oV_GIR60L"
      },
      "execution_count": 17,
      "outputs": []
    },
    {
      "cell_type": "code",
      "source": [
        "h_pool2_flat = tf.reshape(h_pool2, [-1, 7*7*64])"
      ],
      "metadata": {
        "id": "UupgvHqeR8K8"
      },
      "execution_count": 18,
      "outputs": []
    },
    {
      "cell_type": "code",
      "source": [
        "h_fc1 = tf.nn.relu(tf.matmul(h_pool2_flat, W_fc1) + b_fc1)"
      ],
      "metadata": {
        "id": "kOFflX-LR-ol"
      },
      "execution_count": 19,
      "outputs": []
    },
    {
      "cell_type": "code",
      "source": [
        "keep_prob = tf.placeholder(tf.float32)\n",
        "h_fc1_drop = tf.nn.dropout(h_fc1, keep_prob)"
      ],
      "metadata": {
        "colab": {
          "base_uri": "https://localhost:8080/"
        },
        "id": "rwvl3Jg2R_J2",
        "outputId": "aec91a9e-43fe-4930-ac92-de5cd63e4855"
      },
      "execution_count": 20,
      "outputs": [
        {
          "output_type": "stream",
          "name": "stdout",
          "text": [
            "WARNING:tensorflow:From /usr/local/lib/python3.7/dist-packages/tensorflow/python/util/dispatch.py:1082: calling dropout (from tensorflow.python.ops.nn_ops) with keep_prob is deprecated and will be removed in a future version.\n",
            "Instructions for updating:\n",
            "Please use `rate` instead of `keep_prob`. Rate should be set to `rate = 1 - keep_prob`.\n"
          ]
        },
        {
          "output_type": "stream",
          "name": "stderr",
          "text": [
            "WARNING:tensorflow:From /usr/local/lib/python3.7/dist-packages/tensorflow/python/util/dispatch.py:1082: calling dropout (from tensorflow.python.ops.nn_ops) with keep_prob is deprecated and will be removed in a future version.\n",
            "Instructions for updating:\n",
            "Please use `rate` instead of `keep_prob`. Rate should be set to `rate = 1 - keep_prob`.\n"
          ]
        }
      ]
    },
    {
      "cell_type": "code",
      "source": [
        "W_fc2, b_fc2 = create_layer([1024, 10])\n",
        "y_conv = tf.matmul(h_fc1_drop, W_fc2) + b_fc2"
      ],
      "metadata": {
        "id": "fXfn_YzFSB3k"
      },
      "execution_count": 21,
      "outputs": []
    },
    {
      "cell_type": "code",
      "source": [
        "y_loss = tf.placeholder(tf.float32, [None, 10])\n",
        "loss = tf.reduce_mean(tf.nn.softmax_cross_entropy_with_logits(labels = y_loss, logits=y_conv))\n",
        "optimizer = tf.train.AdamOptimizer(1e-4).minimize(loss)"
      ],
      "metadata": {
        "colab": {
          "base_uri": "https://localhost:8080/"
        },
        "id": "D3yKAKi3SEPd",
        "outputId": "95c1c67b-df61-41ce-9503-532454631331"
      },
      "execution_count": 22,
      "outputs": [
        {
          "output_type": "stream",
          "name": "stdout",
          "text": [
            "WARNING:tensorflow:From /usr/local/lib/python3.7/dist-packages/tensorflow/python/util/dispatch.py:1082: softmax_cross_entropy_with_logits (from tensorflow.python.ops.nn_ops) is deprecated and will be removed in a future version.\n",
            "Instructions for updating:\n",
            "\n",
            "Future major versions of TensorFlow will allow gradients to flow\n",
            "into the labels input on backprop by default.\n",
            "\n",
            "See `tf.nn.softmax_cross_entropy_with_logits_v2`.\n",
            "\n"
          ]
        },
        {
          "output_type": "stream",
          "name": "stderr",
          "text": [
            "WARNING:tensorflow:From /usr/local/lib/python3.7/dist-packages/tensorflow/python/util/dispatch.py:1082: softmax_cross_entropy_with_logits (from tensorflow.python.ops.nn_ops) is deprecated and will be removed in a future version.\n",
            "Instructions for updating:\n",
            "\n",
            "Future major versions of TensorFlow will allow gradients to flow\n",
            "into the labels input on backprop by default.\n",
            "\n",
            "See `tf.nn.softmax_cross_entropy_with_logits_v2`.\n",
            "\n"
          ]
        }
      ]
    },
    {
      "cell_type": "code",
      "source": [
        "predicted = tf.equal(tf.argmax(y_conv, 1), tf.argmax(y_loss, 1))\n",
        "accuracy = tf.reduce_mean(tf.cast(predicted, tf.float32))"
      ],
      "metadata": {
        "id": "TJOXfY-TSHEm"
      },
      "execution_count": 23,
      "outputs": []
    },
    {
      "cell_type": "code",
      "source": [
        "sess = tf.InteractiveSession()\n",
        "init = tf.initialize_all_variables()\n",
        "sess.run(init)"
      ],
      "metadata": {
        "colab": {
          "base_uri": "https://localhost:8080/"
        },
        "id": "45jfuQXxSG8j",
        "outputId": "2c77b1ea-65b1-4504-81b4-391fe7f62be7"
      },
      "execution_count": 24,
      "outputs": [
        {
          "output_type": "stream",
          "name": "stdout",
          "text": [
            "WARNING:tensorflow:From /usr/local/lib/python3.7/dist-packages/tensorflow/python/util/tf_should_use.py:243: initialize_all_variables (from tensorflow.python.ops.variables) is deprecated and will be removed after 2017-03-02.\n",
            "Instructions for updating:\n",
            "Use `tf.global_variables_initializer` instead.\n"
          ]
        },
        {
          "output_type": "stream",
          "name": "stderr",
          "text": [
            "WARNING:tensorflow:From /usr/local/lib/python3.7/dist-packages/tensorflow/python/util/tf_should_use.py:243: initialize_all_variables (from tensorflow.python.ops.variables) is deprecated and will be removed after 2017-03-02.\n",
            "Instructions for updating:\n",
            "Use `tf.global_variables_initializer` instead.\n"
          ]
        }
      ]
    },
    {
      "cell_type": "code",
      "source": [
        "num_iterations = 200\n",
        "batch_size = 75\n",
        "print('\\nTraining the model....')\n",
        "for i in range(num_iterations):\n",
        "    batch = mnist.train.next_batch(batch_size)\n",
        "\n",
        "    if i % 50 == 0:\n",
        "        cur_accuracy = accuracy.eval(feed_dict = {\n",
        "                x: batch[0], y_loss: batch[1], keep_prob: 1.0})\n",
        "        print('Iteration', i, ', Accuracy =', cur_accuracy)\n",
        "\n",
        "    optimizer.run(feed_dict = {x: batch[0], y_loss: batch[1], keep_prob: 0.5})\n",
        "\n",
        "print('Test accuracy =', accuracy.eval(feed_dict = {\n",
        "        x: mnist.test.images, y_loss: mnist.test.labels,\n",
        "        keep_prob: 1.0}))"
      ],
      "metadata": {
        "colab": {
          "base_uri": "https://localhost:8080/"
        },
        "id": "jpKhqyphSQJN",
        "outputId": "7a56c181-bcd5-4dab-825f-c3f0882c4f51"
      },
      "execution_count": 25,
      "outputs": [
        {
          "output_type": "stream",
          "name": "stdout",
          "text": [
            "\n",
            "Training the model....\n",
            "Iteration 0 , Accuracy = 0.013333334\n",
            "Iteration 50 , Accuracy = 0.85333335\n",
            "Iteration 100 , Accuracy = 0.8\n",
            "Iteration 150 , Accuracy = 0.93333334\n",
            "Test accuracy = 0.9162\n"
          ]
        }
      ]
    },
    {
      "cell_type": "markdown",
      "metadata": {
        "id": "y7sX7dC6K4yP"
      },
      "source": [
        "## Great Job!"
      ]
    }
  ],
  "metadata": {
    "anaconda-cloud": {},
    "kernelspec": {
      "display_name": "Python [default]",
      "language": "python",
      "name": "python3"
    },
    "language_info": {
      "codemirror_mode": {
        "name": "ipython",
        "version": 3
      },
      "file_extension": ".py",
      "mimetype": "text/x-python",
      "name": "python",
      "nbconvert_exporter": "python",
      "pygments_lexer": "ipython3",
      "version": "3.5.3"
    },
    "colab": {
      "name": "01-MNIST-with-CNN.ipynb",
      "provenance": [],
      "collapsed_sections": []
    }
  },
  "nbformat": 4,
  "nbformat_minor": 0
}