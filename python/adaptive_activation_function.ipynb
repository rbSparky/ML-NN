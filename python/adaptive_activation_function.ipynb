{
  "nbformat": 4,
  "nbformat_minor": 0,
  "metadata": {
    "colab": {
      "name": "Untitled4.ipynb",
      "provenance": [],
      "collapsed_sections": []
    },
    "kernelspec": {
      "name": "python3",
      "display_name": "Python 3"
    },
    "language_info": {
      "name": "python"
    }
  },
  "cells": [
    {
      "cell_type": "code",
      "execution_count": null,
      "metadata": {
        "colab": {
          "base_uri": "https://localhost:8080/"
        },
        "id": "F4ybiWyLlUqZ",
        "outputId": "fd03777a-c221-4ce0-89d7-d4f5f21674fc"
      },
      "outputs": [
        {
          "output_type": "stream",
          "name": "stdout",
          "text": [
            "\n",
            "\n",
            "5\n",
            "[<tf.Variable 'Variable_265:0' shape=(1, 50) dtype=float32_ref>, <tf.Variable 'Variable_266:0' shape=(1, 50) dtype=float32_ref>, <tf.Variable 'Variable_267:0' shape=(1, 50) dtype=float32_ref>, <tf.Variable 'Variable_268:0' shape=(1, 50) dtype=float32_ref>, <tf.Variable 'Variable_269:0' shape=(1, 1) dtype=float32_ref>]\n",
            "<tf.Variable 'Variable_265:0' shape=(1, 50) dtype=float32_ref>\n"
          ]
        }
      ],
      "source": [
        "import os\n",
        "import numpy as np\n",
        "import tensorflow.compat.v1 as tf\n",
        "tf.disable_v2_behavior()\n",
        "import matplotlib.pyplot as plt\n",
        "import scipy.io\n",
        "#from scipy.interpolate import griddata\n",
        "#from plotting import newfig, savefig\n",
        "\n",
        "np.random.seed(1234)\n",
        "#tf.random.set_random_seed(1234)\n",
        "#%%\n",
        "def fun_x(x):\n",
        "    \n",
        "    f = np.zeros(len(x))\n",
        "    f = np.reshape(f, (-1, 1))\n",
        "    #f = []\n",
        "    for i in range(len(x)):\n",
        "        \n",
        "        if x[i]<=0:\n",
        "                  \n",
        "            f[i] = 0.2*np.sin(6*x[i]) \n",
        "            \n",
        "        else:\n",
        "            \n",
        "            f[i] = 0.1*x[i]*np.cos(18*x[i]) + 1\n",
        "            \n",
        "    return f\n",
        "\n",
        "\n",
        "def hyper_parameters_A(size):\n",
        "\n",
        "    a = tf.Variable(tf.constant(0.1, shape=size))\n",
        "\n",
        "    return a\n",
        "\n",
        "def hyper_parameters(size):\n",
        "\n",
        "    return tf.Variable(tf.random.normal(shape=size, mean = 0., stddev = 0.1))\n",
        "\n",
        "def DNN(X, W, b, a):\n",
        "    A = X\n",
        "    L = len(W)\n",
        "    for i in range(L - 1):\n",
        "        A = tf.tanh(10*a[i]*\n",
        "                    tf.add(tf.matmul(A, W[i]), b[i])) \n",
        "    Y = tf.add(tf.matmul(A, W[-1]), b[-1])\n",
        "    return Y\n",
        "\n",
        "if __name__ == \"__main__\":\n",
        "   \n",
        "    \n",
        "    N = 300\n",
        "    x = np.linspace(-3,3, N+1)\n",
        "    x = np.reshape(x, (-1, 1))\n",
        "    y = fun_x(x)\n",
        "\n",
        "    layers = [1] + 4*[50] + [1]\n",
        "    W = [hyper_parameters([layers[l-1], layers[l]]) for l in range(1, len(layers))]\n",
        "    b = [hyper_parameters([1, layers[l]]) for l in range(1, len(layers))]\n",
        "    a = [hyper_parameters_A([1, layers[l]]) for l in range(1, len(layers))]\n",
        "      \n",
        "    print('\\n', len(a), a, a[0], sep = '\\n')\n",
        "    \n",
        "    x_train = tf.placeholder(tf.float32, shape=[None, 1])\n",
        "    y_train = tf.placeholder(tf.float32, shape=[None, 1])\n",
        "    y_pred = DNN(x_train, W, b, a)\n",
        "\n",
        "    min_er = 0\n",
        "    for iter in a:\n",
        "      min_er += tf.exp(tf.reduce_mean(iter))\n",
        "    min_er = 1 / min_er\n",
        "\n",
        "    loss = tf.reduce_mean(tf.square(y_pred - y_train)) + min_er\n",
        "    '''    \n",
        "(1.0/(tf.reduce_mean( tf.exp(tf.reduce_mean(a[0])) + tf.exp(tf.reduce_mean(a[1]))+ tf.exp(tf.reduce_mean(a[2]))+ \\\n",
        "                     tf.exp(tf.reduce_mean(a[3]))     \n",
        "                     )))\n",
        "    '''    \n",
        "                    \n",
        "    train = tf.train.AdamOptimizer(2.0e-4).minimize(loss)\n",
        " \n",
        "\n",
        "    sess = tf.Session()\n",
        "\n",
        "    sess.run(tf.global_variables_initializer())\n",
        "\n",
        "    nmax = 15001\n",
        "    n = 0\n",
        "\n",
        "    MSE_hist = []\n",
        "    Sol = []\n",
        "    a_hist = []\n",
        "\n",
        "    \n",
        "     \n",
        "  "
      ]
    },
    {
      "cell_type": "code",
      "source": [
        "while n <= nmax: #and err > 1.0e-6:\n",
        "        n = n + 1\n",
        "        loss_, _, y_ = sess.run([loss, train, y_pred], feed_dict={x_train: x, y_train: y})\n",
        "        err = loss_\n",
        "        a_value  = sess.run(a, feed_dict={x_train: x, y_train: y})\n",
        "        a_value = np.concatenate(a_value, axis=1)\n",
        "        a_value = np.reshape(a_value, (1, -1))  \n",
        "        a_hist.append(a_value)\n",
        "        \n",
        "        MSE_hist.append(err)\n",
        "        \n",
        "        if n == 200 or n==800 or n==8000: \n",
        "   \n",
        "            Sol.append(y_)\n",
        "            print('Steps: %d, loss: %.3e'%(n, loss_))  \n",
        "\n",
        "Solution = np.concatenate(Sol, axis=1)\n",
        "    ###############################################################\n",
        "A_value = np.concatenate(a_hist, axis=0)\n",
        "\n",
        "    ##################### DATA storing (.mat file) #######################\n",
        "with open('History_NN.mat','wb') as f:\n",
        "  scipy.io.savemat(f, {'MSE_hist': MSE_hist})"
      ],
      "metadata": {
        "colab": {
          "base_uri": "https://localhost:8080/"
        },
        "id": "kOJH3yeJtZ6b",
        "outputId": "c764fb7e-eb00-4fb7-f233-70091f7342b8"
      },
      "execution_count": null,
      "outputs": [
        {
          "output_type": "stream",
          "name": "stdout",
          "text": [
            "Steps: 200, loss: 2.598e-01\n",
            "Steps: 800, loss: 1.892e-01\n",
            "Steps: 8000, loss: 8.151e-02\n"
          ]
        }
      ]
    },
    {
      "cell_type": "code",
      "source": [
        "  ###################### Plotting\n",
        "ax = plt.plot(1.0, 1.1)\n",
        "plt.plot(x[0:-1], y[0:-1], 'k-',  label = 'Exact')\n",
        "plt.plot(x[0:-1], Solution[0:-1,-1], 'yx-',  label = 'Predicted at Iter = 8000')\n",
        "plt.plot(x[0:-1], Solution[0:-1,1], 'b-.',  label = 'Predicted at Iter = 800')\n",
        "plt.plot(x[0:-1], Solution[0:-1,0], 'r--',  label = 'Predicted at Iter = 200')\n",
        "plt.xlabel('$x$')\n",
        "plt.ylabel('$u(x)$')\n",
        "plt.legend(loc='upper left')\n",
        "plt.show()"
      ],
      "metadata": {
        "colab": {
          "base_uri": "https://localhost:8080/",
          "height": 279
        },
        "id": "RjahakeOle79",
        "outputId": "2ca49bbc-bd88-4e40-a449-d3eb3686ba7c"
      },
      "execution_count": 56,
      "outputs": [
        {
          "output_type": "display_data",
          "data": {
            "text/plain": [
              "<Figure size 432x288 with 1 Axes>"
            ],
            "image/png": "[encoded data removed]"
          },
          "metadata": {
            "needs_background": "light"
          }
        }
      ]
    },
    {
      "cell_type": "markdown",
      "source": [
        ""
      ],
      "metadata": {
        "id": "f-qL3eDIv84i"
      }
    },
    {
      "cell_type": "code",
      "source": [
        ""
      ],
      "metadata": {
        "id": "h7rEnIklnf8K"
      },
      "execution_count": null,
      "outputs": []
    }
  ]
}